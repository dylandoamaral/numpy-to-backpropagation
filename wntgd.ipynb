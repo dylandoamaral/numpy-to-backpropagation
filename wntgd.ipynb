{
 "cells": [
  {
   "cell_type": "markdown",
   "metadata": {},
   "source": [
    "# Neural network - made by Dylan DO AMARAL"
   ]
  },
  {
   "cell_type": "code",
   "execution_count": 24,
   "metadata": {},
   "outputs": [],
   "source": [
    "import numpy as np\n",
    "import random\n",
    "\n",
    "import matplotlib.pyplot as plt\n",
    "import matplotlib.image as mpimg\n",
    "import glob"
   ]
  },
  {
   "cell_type": "code",
   "execution_count": 25,
   "metadata": {},
   "outputs": [],
   "source": [
    "# Constant\n",
    "PERCENTAGE_TRAINING = 80                          # Percentage of the data taken for training only\n",
    "PERCENTAGE_TESTINT  = 100 - PERCENTAGE_TRAINING   # Percentage of the data taken for testing only\n",
    "MINI_MSE            = 0.0001                      # Stop condition for our model if it reach this minimum MSE\n",
    "MAX_ITERATION       = 1000000                     # Max number of iteration if the model don't reach the minimum MSE and if the epoch is too big\n",
    "EPOCH               = 20                          # Number of epoch to train our mode"
   ]
  },
  {
   "cell_type": "markdown",
   "metadata": {},
   "source": [
    "## Prepare the training data"
   ]
  },
  {
   "cell_type": "code",
   "execution_count": 26,
   "metadata": {},
   "outputs": [],
   "source": [
    "#observed = [0, 1, 2, 3, 4, 5, 6, 7, 8, 9]\n",
    "#observed = [0, 2, 4, 6, 8] #Odd\n",
    "#observed = [1, 3, 5, 7, 9] #Even\n",
    "observed = [2, 3, 8, 9] #Test\n",
    "\n",
    "# Convert a number into an array compatible with our neural network according to observed define above\n",
    "# Example :\n",
    "#    observed = [0, 1, 2, 3, 4, 5, 6, 7, 8, 9]\n",
    "#          3 -> [0, 0, 0, 1, 0, 0, 0, 0, 0, 0]\n",
    "# Parameter :\n",
    "#    n: number -> number that need to be converted\n",
    "# Return :\n",
    "#    y: list   -> number inside the matrix space\n",
    "def numberToArray(n):\n",
    "    res = [0] * len(observed);\n",
    "    res[observed.index(n)] = 1\n",
    "    return res\n",
    "\n",
    "# Reverse the numberToArray process\n",
    "# Example :\n",
    "#    observed = [0, 1, 2, 3, 4, 5, 6, 7, 8, 9]\n",
    "#               [0, 0, 0, 1, 0, 0, 0, 0, 0, 0] -> 3 \n",
    "# Parameter :\n",
    "#    n: list   -> list that need to be converted\n",
    "# Return :\n",
    "#    y: number -> real number\n",
    "def arrayToNumber(n):\n",
    "    return observed[n.index(1)]"
   ]
  },
  {
   "cell_type": "code",
   "execution_count": 27,
   "metadata": {},
   "outputs": [],
   "source": [
    "# Read data\n",
    "data = list()\n",
    "for i in range(0, 10):\n",
    "    if i not in observed:\n",
    "        continue\n",
    "    for filename in glob.glob('./training/' + str(i) + '/*.png'):\n",
    "        image = mpimg.imread(filename)\n",
    "        data.append((image.flatten(), numberToArray(i)))"
   ]
  },
  {
   "cell_type": "code",
   "execution_count": 28,
   "metadata": {},
   "outputs": [
    {
     "name": "stdout",
     "output_type": "stream",
     "text": [
      "training length :  12800\n",
      "testing length  :  3200\n"
     ]
    }
   ],
   "source": [
    "# Shuffle data and separe in two sets\n",
    "random.shuffle(data)\n",
    "\n",
    "training = data[0:int(PERCENTAGE_TRAINING * len(data) / 100)]\n",
    "testing  = data[int(PERCENTAGE_TRAINING * len(data) / 100):len(data)]\n",
    "\n",
    "print(\"training length : \", len(training))\n",
    "print(\"testing length  : \", len(testing))"
   ]
  },
  {
   "cell_type": "code",
   "execution_count": 29,
   "metadata": {
    "scrolled": true
   },
   "outputs": [
    {
     "data": {
      "image/png": "[encoded data removed]",
      "text/plain": [
       "<Figure size 1440x1440 with 10 Axes>"
      ]
     },
     "metadata": {
      "needs_background": "light"
     },
     "output_type": "display_data"
    }
   ],
   "source": [
    "# Show some sample of our data\n",
    "fig, axs = plt.subplots(nrows=1, ncols=10, figsize=(20,20))\n",
    "plt.subplots_adjust(right = 1.3)\n",
    "\n",
    "count = 0\n",
    "for ax in axs.flat:\n",
    "    ax.imshow(data[count][0].reshape(28, 28))\n",
    "    count += 1"
   ]
  },
  {
   "cell_type": "markdown",
   "metadata": {},
   "source": [
    "## Create NN system"
   ]
  },
  {
   "cell_type": "code",
   "execution_count": 30,
   "metadata": {},
   "outputs": [],
   "source": [
    "# Sigmoid function\n",
    "# \n",
    "# Parameter :\n",
    "#    x: number or matrix -> number that need to be sigmoidfied\n",
    "# Return :\n",
    "#    y: number or matrix -> Sigmoid of x\n",
    "def sigmoid(x):\n",
    "    return 1.0 / (1.0 + np.exp(-x))"
   ]
  },
  {
   "cell_type": "code",
   "execution_count": 31,
   "metadata": {},
   "outputs": [],
   "source": [
    "class NeuralNetwork:\n",
    "    def __init__(self, layers):\n",
    "        self.layers        = layers\n",
    "        self.n_layers      = len(layers)\n",
    "        self.learning_rate = 0.01\n",
    "        self.neurons       = [np.zeros((self.layers[l], 1)) for l in range(0, self.n_layers)]\n",
    "        self.biases        = [np.random.uniform(-0.5, 0.5, (self.layers[l], 1)) for l in range(1, self.n_layers)]\n",
    "        self.weights       = [np.random.uniform(-0.5, 0.5, (self.layers[l], self.layers[l - 1])) for l in range(1, self.n_layers)]\n",
    "        self.iteration     = 0\n",
    "        self.SEs           = list()\n",
    "        self.MSEs          = list()\n",
    "\n",
    "    # Feed forward algorighm that update every weight of our network according to the \"entry\", an array that represent\n",
    "    # the first layer\n",
    "    # \n",
    "    # Parameter :\n",
    "    #    entry: list -> Array representing value that enter inside the network\n",
    "    # Return :\n",
    "    #    None\n",
    "    def feedforward(self, entry):\n",
    "        self.neurons[0] = np.matrix(entry).T\n",
    "        for layer in range(1, self.n_layers):\n",
    "            self.neurons[layer] = sigmoid(self.weights[layer - 1] * self.neurons[layer - 1] + self.biases[layer - 1])\n",
    "        \n",
    "    # Backpropagate an error caused by the difference between the target and the last layer\n",
    "    # \n",
    "    # Parameter :\n",
    "    #    target: list -> Value that should be predicted by the network\n",
    "    # Return :\n",
    "    #    None\n",
    "    def backpropagation(self, target):        \n",
    "        gradients = [None for w in self.weights]\n",
    "        for i in range(self.n_layers - 1, 0, -1):\n",
    "            sigmoid_prime = np.multiply(self.neurons[i], 1 - self.neurons[i])\n",
    "            if i == self.n_layers - 1:\n",
    "                error = np.matrix(target).T - self.neurons[i]\n",
    "            else:\n",
    "                error = np.dot(self.weights[i].T, error)\n",
    "            gradients[i - 1] = np.multiply(error, sigmoid_prime)\n",
    "        for i in range(0, self.n_layers - 1):\n",
    "            if self.iteration % 1000 == 0:\n",
    "                self.learning_rate *= 0.9999\n",
    "            self.weights[i] = self.weights[i] + self.learning_rate * np.dot(gradients[i], self.neurons[i].T)\n",
    "            self.biases[i]  = self.biases[i]  + self.learning_rate * gradients[i]\n",
    "    \n",
    "    # The current squared error divide by the number of output\n",
    "    # \n",
    "    # Parameter :\n",
    "    #    target: list -> Value that should be predicted by the network\n",
    "    # Return :\n",
    "    #    SE: int      -> The squared error\n",
    "    def MSE(self, target):\n",
    "        return (1 / len(target)) * sum((target - self.neurons[-1].A1) ** 2)\n",
    "    \n",
    "    # Train the neural network according to a set of data\n",
    "    # \n",
    "    # Parameter :\n",
    "    #    data: list(list, list) -> List of tuple containing n training data where the first element is the entry and the last the target\n",
    "    # Return :\n",
    "    #    None\n",
    "    def train(self, data):\n",
    "        n = 0\n",
    "        e = 0\n",
    "        for e in range(0, EPOCH):\n",
    "            print(\"epoch number \" + str(e))\n",
    "            self.iteration += 1\n",
    "            random.shuffle(data)\n",
    "            for i in range(0, len(data)):\n",
    "                if n > MAX_ITERATION:\n",
    "                    break;\n",
    "                (entry, target) = data[i]\n",
    "                self.feedforward(entry)\n",
    "                self.SEs.append(float(self.MSE(target)))\n",
    "                self.MSEs.append((1 / len(self.SEs)) * sum(self.SEs))\n",
    "                if self.MSEs[-1] < MINI_MSE:\n",
    "                    break;\n",
    "                self.backpropagation(target)\n",
    "                n += 1\n",
    "    \n",
    "    # Predict the value of an entry\n",
    "    # \n",
    "    # Parameter :\n",
    "    #    entry: list -> Array representing value that enter inside the network\n",
    "    # Return :\n",
    "    #    value: int  -> Predicted value\n",
    "    def predict(self, entry):\n",
    "        self.feedforward(entry)\n",
    "        index = -1\n",
    "        score = 0\n",
    "        for i in range(0, len(self.neurons[-1])):\n",
    "            if self.neurons[-1].A1[i] > score:\n",
    "                index = i\n",
    "                score = self.neurons[-1].A1[i]\n",
    "        return observed[index]\n",
    "\n",
    "    def show(self):\n",
    "        for i in range(0, self.n_layers):\n",
    "            print(\"neuron's layer\", i, \":\\n\", self.neurons[i])\n",
    "        for i in range(0, self.n_layers - 1):\n",
    "            print(\"weight's layer\", i, \":\\n\", self.weights[i])"
   ]
  },
  {
   "cell_type": "markdown",
   "metadata": {},
   "source": [
    "## Train the network"
   ]
  },
  {
   "cell_type": "code",
   "execution_count": null,
   "metadata": {},
   "outputs": [
    {
     "name": "stdout",
     "output_type": "stream",
     "text": [
      "epoch number 0\n",
      "epoch number 1\n",
      "epoch number 2\n",
      "epoch number 3\n",
      "epoch number 4\n",
      "epoch number 5\n",
      "epoch number 6\n",
      "epoch number 7\n",
      "epoch number 8\n",
      "epoch number 9\n",
      "epoch number 10\n",
      "epoch number 11\n",
      "epoch number 12\n",
      "epoch number 13\n",
      "epoch number 14\n",
      "epoch number 15\n",
      "epoch number 16\n",
      "epoch number 17\n",
      "epoch number 18\n",
      "epoch number 19\n"
     ]
    }
   ],
   "source": [
    "#nn = NeuralNetwork([28 * 28, 128, 64, len(observed)])\n",
    "nn = NeuralNetwork([28 * 28, 128, len(observed)])\n",
    "\n",
    "nn.train(training)"
   ]
  },
  {
   "cell_type": "code",
   "execution_count": null,
   "metadata": {
    "scrolled": false
   },
   "outputs": [],
   "source": [
    "# Error of our network according to the number of iteration\n",
    "plt.plot(range(0, len(nn.MSEs)), nn.MSEs);"
   ]
  },
  {
   "cell_type": "markdown",
   "metadata": {},
   "source": [
    "## Test with the test set"
   ]
  },
  {
   "cell_type": "code",
   "execution_count": null,
   "metadata": {
    "scrolled": true
   },
   "outputs": [],
   "source": [
    "# Check the accuracy of our algorithm using testing data\n",
    "bad  = 0\n",
    "good = 0\n",
    "bads = list()\n",
    "for test in testing:\n",
    "    predict = nn.predict(test[0])\n",
    "    if predict == arrayToNumber(test[1]):\n",
    "        good += 1\n",
    "    else:\n",
    "        bad += 1\n",
    "        bads.append((test[0], arrayToNumber(test[1]), predict))\n",
    "\n",
    "print(\"Accuracy of the network :\", (good) / (good + bad) * 100, \"%\")"
   ]
  },
  {
   "cell_type": "code",
   "execution_count": null,
   "metadata": {
    "scrolled": true
   },
   "outputs": [],
   "source": [
    "# Examples where the network failed to predict the correct answer\n",
    "fig, axs = plt.subplots(nrows=2, ncols=10, figsize=(20, 7))\n",
    "plt.subplots_adjust(right = 1.3)\n",
    "\n",
    "random.shuffle(bads)\n",
    "\n",
    "count = 0\n",
    "for ax in axs.flat:\n",
    "    ax.imshow(bads[count][0].reshape(28, 28))\n",
    "    ax.set_title(str(bads[count][2]) + \" should be \" + str(bads[count][1]), fontsize = 16)\n",
    "    count += 1"
   ]
  },
  {
   "cell_type": "markdown",
   "metadata": {},
   "source": [
    "## Output the result"
   ]
  },
  {
   "cell_type": "code",
   "execution_count": 23,
   "metadata": {},
   "outputs": [],
   "source": [
    "# Read files from \"Testing data\" files and try to predict for each one the value inside a file named \"output\"\n",
    "f = open(\"output.txt\", \"w\") \n",
    "for filename in glob.glob('E:/testing/*.png'):\n",
    "    image  = mpimg.imread(filename)\n",
    "    name = filename.split(\"\\\\\")[-1].split(\".png\")[0]\n",
    "    result = nn.predict(image.flatten())\n",
    "    f.write(name + \" \" + str(result) + \"\\n\")\n",
    "f.close()"
   ]
  }
 ],
 "metadata": {
  "kernelspec": {
   "display_name": "Python 3",
   "language": "python",
   "name": "python3"
  },
  "language_info": {
   "codemirror_mode": {
    "name": "ipython",
    "version": 3
   },
   "file_extension": ".py",
   "mimetype": "text/x-python",
   "name": "python",
   "nbconvert_exporter": "python",
   "pygments_lexer": "ipython3",
   "version": "3.6.7"
  }
 },
 "nbformat": 4,
 "nbformat_minor": 2
}
